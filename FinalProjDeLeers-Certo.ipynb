{
 "cells": [
  {
   "cell_type": "code",
   "execution_count": null,
   "metadata": {},
   "outputs": [],
   "source": [
    "#Coded and analyzed by Giuseppe DeLeers-Certo\n",
    "#    B ME 450\n",
    "#    Dr. Abadi\n",
    "#    3/12/19"
   ]
  },
  {
   "cell_type": "markdown",
   "metadata": {},
   "source": [
    "#  pH Variance between Atlantic Hemispheres"
   ]
  },
  {
   "cell_type": "code",
   "execution_count": 68,
   "metadata": {},
   "outputs": [],
   "source": [
    "import os\n",
    "import numpy as np\n",
    "import numpy.ma as ma\n",
    "import matplotlib as mpl\n",
    "import matplotlib.pyplot as plt\n",
    "import datetime as dt\n",
    "%matplotlib inline"
   ]
  },
  {
   "cell_type": "code",
   "execution_count": 79,
   "metadata": {
    "scrolled": false
   },
   "outputs": [
    {
     "name": "stdout",
     "output_type": "stream",
     "text": [
      "[[8.06980718 8.08655497]\n",
      " [7.98658631 8.08709978]\n",
      " [7.81480725 8.08921176]\n",
      " [7.84687302 8.09797239]\n",
      " [7.86475652 8.11390509]\n",
      " [7.94623436 8.12884306]\n",
      " [7.95383491 7.90702043]\n",
      " [7.88174054 8.12017506]\n",
      " [6.05857684 8.11527641]\n",
      " [6.05383335 8.11076292]\n",
      " [6.32904646 8.11283605]\n",
      " [8.11781439 8.08628214]\n",
      " [7.74057462 8.07680467]\n",
      " [7.80572257 8.07013573]\n",
      " [7.97561683 8.06729074]\n",
      " [8.11812796 8.06775691]\n",
      " [8.12681522 8.07034902]\n",
      " [8.13191943 8.07325552]]\n"
     ]
    }
   ],
   "source": [
    "site=1\n",
    "#Site 1 is the Argentinian Basin, coords (-42.4924,-42.1626)\n",
    "#Site 2 is the Irminger Sea, coords (59.71823,-39.3536)\n",
    "#Measurements span from Jan 11, 2016 to May 1, 2017\n",
    "#All data provided courtesy of the OOI.\n",
    "\n",
    "aTotal=np.ndarray(shape=(18,2))\n",
    "while site<3:\n",
    "    fileAppendix='Site'+str(site)+'\\\\'\n",
    "    directory = 'C:\\\\Users\\\\Giuse\\\\Desktop\\\\BME 450\\\\Project\\\\'+fileAppendix\n",
    "    rowCount=0\n",
    "    for filename in os.listdir(directory):\n",
    "        if filename.endswith(\".csv\"):\n",
    "            #Some fields are missing from the data, so they're replaced with 0 and masked below\n",
    "            data = np.genfromtxt(directory+filename, delimiter = ',', skip_header = 1, filling_values=0, usecols=(19))\n",
    "            maskedData= ma.masked_values(data,0)\n",
    "            #Data is averaged and saved here. Each value represents an average over about a month.\n",
    "            aTotal[rowCount,site-1]=np.average(maskedData[:])\n",
    "            rowCount=rowCount+1\n",
    "    site=site+1\n",
    "print(aTotal)"
   ]
  },
  {
   "cell_type": "code",
   "execution_count": 127,
   "metadata": {},
   "outputs": [
    {
     "name": "stdout",
     "output_type": "stream",
     "text": [
      "[[8.06980718 8.08655497]\n",
      " [7.98658631 8.08709978]\n",
      " [7.81480725 8.08921176]\n",
      " [7.84687302 8.09797239]\n",
      " [7.86475652 8.11390509]\n",
      " [7.94623436 8.12884306]\n",
      " [7.95383491 7.90702043]\n",
      " [7.88174054 8.12017506]\n",
      " [6.05857684 8.11527641]\n",
      " [6.05383335 8.11076292]\n",
      " [6.32904646 8.11283605]\n",
      " [8.11781439 8.08628214]\n",
      " [7.74057462 8.07680467]\n",
      " [7.80572257 8.07013573]\n",
      " [7.97561683 8.06729074]\n",
      " [8.11812796 8.06775691]\n",
      " [8.12681522 8.07034902]\n",
      " [8.13191943 8.07325552]]\n"
     ]
    }
   ],
   "source": [
    "print(aTotal)"
   ]
  },
  {
   "cell_type": "code",
   "execution_count": 132,
   "metadata": {},
   "outputs": [
    {
     "name": "stdout",
     "output_type": "stream",
     "text": [
      "8.069807184124308\n",
      "7.986586309248333\n",
      "7.814807248950357\n",
      "7.84687302396491\n",
      "7.8647565164236\n",
      "7.946234362735079\n",
      "6.058576840084074\n",
      "6.0538333456002\n",
      "6.329046457803244\n",
      "8.11781439404828\n",
      "7.740574621201022\n",
      "7.805722570317972\n",
      "7.9756168303875885\n",
      "8.118127963067739\n",
      "8.126815220536397\n",
      "8.131919425812857\n"
     ]
    }
   ],
   "source": [
    "#The Data for the month of July is split into two pieces, each spanning half the month.\n",
    "#They are recombined here so each row covers about a month.\n",
    "i=0\n",
    "spacedData=np.ndarray(shape=(17,2))\n",
    "for n in range(0,2):\n",
    "    j=0\n",
    "    while i<17:\n",
    "        if i==6:\n",
    "            spacedData[i,n]=np.average(aTotal[range(j,j+1),n])\n",
    "            j=j+2\n",
    "        else:\n",
    "            spacedData[i,n]=aTotal[j,n]\n",
    "            print(spacedData[i,n])\n",
    "            j=j+1\n",
    "        i=i+1"
   ]
  },
  {
   "cell_type": "code",
   "execution_count": 150,
   "metadata": {
    "scrolled": true
   },
   "outputs": [
    {
     "data": {
      "image/png": "[encoded data removed]",
      "text/plain": [
       "<Figure size 432x288 with 1 Axes>"
      ]
     },
     "metadata": {
      "needs_background": "light"
     },
     "output_type": "display_data"
    }
   ],
   "source": [
    "import matplotlib.dates as mdates\n",
    "#Setting Time Axis for Plots\n",
    "dates = []\n",
    "for year in range(2016, 2018):\n",
    "    for month in range(1, 12):\n",
    "        dates.append(dt.datetime(year=year, month=month, day=1))\n",
    "y1 = spacedData[:,0]\n",
    "ax.plot(dates[:17],y1)\n",
    "#Configuring x-axis read out so dates are displayed clearly\n",
    "plt.gcf().autofmt_xdate()\n",
    "myFmt = mdates.DateFormatter('%b')\n",
    "plt.gca().xaxis.set_major_formatter(myFmt)\n",
    "plt.plot(dates[:17],y1,label='Argentine Basin')\n",
    "plt.title('Monthly pH Average in North and South Atlantic (Jan 2016 to May 2017)')\n",
    "plt.xlabel('Month')\n",
    "plt.ylabel('pH')\n",
    "plt.grid(b=True, which='major', axis='both')\n",
    "y2 = spacedData[:,1]\n",
    "plt.plot(dates[:17],y2,'r',label='Irminger Sea')\n",
    "plt.legend(loc='lower left')\n",
    "plt.show()\n"
   ]
  },
  {
   "cell_type": "code",
   "execution_count": null,
   "metadata": {},
   "outputs": [],
   "source": []
  }
 ],
 "metadata": {
  "kernelspec": {
   "display_name": "Python 3",
   "language": "python",
   "name": "python3"
  },
  "language_info": {
   "codemirror_mode": {
    "name": "ipython",
    "version": 3
   },
   "file_extension": ".py",
   "mimetype": "text/x-python",
   "name": "python",
   "nbconvert_exporter": "python",
   "pygments_lexer": "ipython3",
   "version": "3.7.1"
  }
 },
 "nbformat": 4,
 "nbformat_minor": 2
}
